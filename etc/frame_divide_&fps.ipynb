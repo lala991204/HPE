{
 "cells": [
  {
   "cell_type": "code",
   "execution_count": 10,
   "id": "f65eb402",
   "metadata": {},
   "outputs": [],
   "source": [
    "import os\n",
    "import subprocess\n",
    "import youtube_dl\n",
    "import numpy as np\n",
    "import cv2\n",
    "from glob import glob\n",
    "import timeit"
   ]
  },
  {
   "cell_type": "markdown",
   "id": "350e897c",
   "metadata": {},
   "source": [
    "# Youtube 영상 다운로드"
   ]
  },
  {
   "cell_type": "code",
   "execution_count": 11,
   "id": "34053aea",
   "metadata": {},
   "outputs": [],
   "source": [
    "# 다운로드 받고 싶은 음악의 유튜브 주소를 적어준다.\n",
    "url = \"https://www.youtube.com/watch?v=liFywzYMyb4\""
   ]
  },
  {
   "cell_type": "code",
   "execution_count": 12,
   "id": "601515c8",
   "metadata": {},
   "outputs": [
    {
     "name": "stdout",
     "output_type": "stream",
     "text": [
      "[youtube] liFywzYMyb4: Downloading webpage\n",
      "[download] Destination: 몇번 봐도 완벽한 스윙 입니다!!🙌   정말 부드러우시네요 스윙 예술입니다~!!-liFywzYMyb4.mp4\n",
      "[download] 100% of 12.37MiB in 03:23                  \n"
     ]
    }
   ],
   "source": [
    "ydl_opts = {} # 필요하다면 옵션을 여러가지 사용할 수 있다. 사용법은 https://github.com/ytdl-org/youtube-dl 를 참고하자.\n",
    "with youtube_dl.YoutubeDL(ydl_opts) as ydl:\n",
    "    ydl.download([url])"
   ]
  },
  {
   "cell_type": "markdown",
   "id": "767f7830",
   "metadata": {},
   "source": [
    "# 해당 영상 프레임 나누기"
   ]
  },
  {
   "cell_type": "code",
   "execution_count": 13,
   "id": "b2447e16",
   "metadata": {},
   "outputs": [],
   "source": [
    "# 다운로드 받은 webm 파일을 리스트에 저장한다.\n",
    "file_list = os.listdir('.')\n",
    "video = [file for file in file_list if file.endswith(\".webm\")]"
   ]
  },
  {
   "cell_type": "code",
   "execution_count": 14,
   "id": "41149f08",
   "metadata": {},
   "outputs": [],
   "source": [
    "# 파일 하나하나 모두 mp4 로 변환한다.\n",
    "for v in video:\n",
    "    s = v.split('.')[0]+'.mp4'\n",
    "    cmds = ['ffmpeg', '-i', v,'-vn', '-ab', '192K', '-y', s]\n",
    "    subprocess.Popen(cmds)\n",
    "    print('Converting',v,'to',s)"
   ]
  },
  {
   "cell_type": "code",
   "execution_count": 2,
   "id": "90d876ac",
   "metadata": {},
   "outputs": [],
   "source": [
    "def create_dir(path):\n",
    "    try:\n",
    "        if not os.path.exists(path):\n",
    "            os.makedirs(path)\n",
    "    except OSError:\n",
    "        print(f\"ERROR: creating directory with name {path}\")\n",
    "\n",
    "def save_frame(video_path, save_dir, gap=10):\n",
    "    name = video_path.split(\"\\\\\")[-1].split(\".\")[0]   # video name\n",
    "    save_path = os.path.join(save_dir, name)\n",
    "    create_dir(save_path)\n",
    "\n",
    "    cap = cv2.VideoCapture(video_path)\n",
    "    idx = 0\n",
    "\n",
    "    while True:\n",
    "        ret, frame = cap.read()\n",
    "\n",
    "        if ret == False:\n",
    "            cap.release()\n",
    "            break\n",
    "\n",
    "        if idx == 0:\n",
    "            cv2.imwrite(f\"{save_path}/{idx}.png\", frame)\n",
    "        else:\n",
    "            if idx % gap == 0:\n",
    "                cv2.imwrite(f\"{save_path}/{idx}.png\", frame)\n",
    "\n",
    "        idx += 1\n",
    "\n",
    "if __name__ == \"__main__\":\n",
    "    video_paths = glob(\"videos/*\")\n",
    "    save_dir = \"save1\"\n",
    "\n",
    "    for path in video_paths:\n",
    "        save_frame(path, save_dir, gap=10)"
   ]
  },
  {
   "cell_type": "code",
   "execution_count": 24,
   "id": "8d077bd0",
   "metadata": {},
   "outputs": [
    {
     "data": {
      "text/plain": [
       "'golf_swing1'"
      ]
     },
     "execution_count": 24,
     "metadata": {},
     "output_type": "execute_result"
    }
   ],
   "source": [
    "video_paths = glob(\"videos/*\")\n",
    "video_paths\n",
    "\n",
    "# name = video_paths.split(\"/\")[-1].split(\".\")[0]\n",
    "# name\n",
    "\n",
    "video_paths[0].split(\"\\\\\")[-1].split(\".\")[0]"
   ]
  },
  {
   "cell_type": "markdown",
   "id": "2d518fd6",
   "metadata": {},
   "source": [
    "# FPS(초당  프레임 수) 계산"
   ]
  },
  {
   "cell_type": "code",
   "execution_count": null,
   "id": "698db830",
   "metadata": {},
   "outputs": [],
   "source": [
    "# 영상 정보 불러오기(위에서 다운받은 영상 이름 변경 후)\n",
    "video = cv2.VideoCapture('videos/golf_swing1.mp4')\n",
    "\n",
    "while True:\n",
    "\n",
    "    ret, frame = video.read()\n",
    "    \n",
    "    if ret is True:\n",
    "        \n",
    "        cv2.imshow('video',frame)   \n",
    "\n",
    "        if cv2.waitKey(1) > 0 :  \n",
    "            break\n",
    "            \n",
    "while True:\n",
    "\n",
    "    ret, frame = video.read()\n",
    "    \n",
    "    if ret is True:\n",
    "        \n",
    "        # 알고리즘 시작 시점\n",
    "        start_t = timeit.default_timer()\n",
    "        \n",
    "        \"\"\" 알고리즘 연산 \"\"\"\n",
    "        \n",
    "        \"\"\" 알고리즘 연산 \"\"\"\n",
    "        \n",
    "        # 알고리즘 종료 시점\n",
    "        terminate_t = timeit.default_timer()\n",
    "        \n",
    "        FPS = int(1./(terminate_t - start_t ))\n",
    "        cv2.imshow('video',frame)\n",
    "        print(FPS)        \n",
    "\n",
    "        if cv2.waitKey(1) > 0 :  \n",
    "            break"
   ]
  },
  {
   "cell_type": "code",
   "execution_count": null,
   "id": "286341e4",
   "metadata": {},
   "outputs": [],
   "source": []
  }
 ],
 "metadata": {
  "kernelspec": {
   "display_name": "Python 3 (ipykernel)",
   "language": "python",
   "name": "python3"
  },
  "language_info": {
   "codemirror_mode": {
    "name": "ipython",
    "version": 3
   },
   "file_extension": ".py",
   "mimetype": "text/x-python",
   "name": "python",
   "nbconvert_exporter": "python",
   "pygments_lexer": "ipython3",
   "version": "3.9.7"
  }
 },
 "nbformat": 4,
 "nbformat_minor": 5
}
